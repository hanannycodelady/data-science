{
 "cells": [
  {
   "cell_type": "markdown",
   "metadata": {},
   "source": [
    "# importing pandas"
   ]
  },
  {
   "cell_type": "code",
   "execution_count": 3,
   "metadata": {},
   "outputs": [],
   "source": [
    "import pandas as pd"
   ]
  },
  {
   "cell_type": "code",
   "execution_count": 4,
   "metadata": {},
   "outputs": [
    {
     "name": "stdout",
     "output_type": "stream",
     "text": [
      "    S/N                      Name  Age  Height  Weight\n",
      "0     1            Adokorac Nancy   20  177.80      74\n",
      "1     2   Amutuhaire Faith Ahabwe   27  157.50      47\n",
      "2     3     KWAGALA JOANNA VICTOR   21  210.82      54\n",
      "3     4              mahoro cathy   23  187.96      30\n",
      "4     5  Mbabazi Hawa Bint Edrisa   19  175.25      59\n",
      "5     6       Nakanjako josephine   24  175.25      65\n",
      "6     7            Nanteza Dorcus   21  157.48      69\n",
      "7     8             Mbabazi Angel   19  167.64      57\n",
      "8     9            Namara Racheal   19  154.94      55\n",
      "9    10       Lwamulungi Sheillah   22  162.56      78\n",
      "10   11           Nakawuka Sandra   25  175.25      60\n",
      "11   12   Achola Gloria Fortunate   27  172.72      80\n",
      "12   13             Nagawa Esther   21  187.96      58\n",
      "13   14           wanjiku hananny   19  165.10      50\n",
      "14   15            babirye Sandra   21  175.25      50\n",
      "15   16          nakagga shanitah   21  175.25      50\n",
      "16   17    Wembabazi Vivian Ritah   20  160.02      49\n",
      "17   18   Nanziri Ritah Namayanja   23  162.56      70\n",
      "18   19            Nasejje Mariam   20  101.60      62\n",
      "19   20  Namukose Jolline Edriana   20  162.56      55\n",
      "20   21      Agatha Faith Anyango   27   93.98      55\n",
      "21   22              Kirabo Sarah   23  165.10      60\n",
      "22   23          Nansalire Anitah   21   63.50      45\n",
      "23   24             Nalugo gladys   19  101.60      70\n",
      "24   25            Namakula Allen   20  170.18      55\n",
      "25   26           Tukahirwa emily   22  175.26      67\n",
      "26   27            Shamirah Ahmed   21  137.16      67\n",
      "27   28          Ameso lmmaculate   23  165.10      64\n",
      "28   29                Ayoo Teddy   20  157.48      50\n",
      "29   30                Biira Mary   30  104.14      65\n",
      "30   31        Aloyo Brenda Ojera   23  170.18      52\n",
      "31   32        Ayebale Immaculate   24  162.56      50\n"
     ]
    }
   ],
   "source": [
    "# create a data frame\n",
    "df = pd.read_excel(r'C:\\Users\\STUDENT\\Desktop\\WITU COHORT 3\\Year one\\Semester one\\Data science and machine learning/DATA/Dataset.xlsx.xlsx')\n",
    "print(df) \n"
   ]
  },
  {
   "cell_type": "code",
   "execution_count": 1,
   "metadata": {},
   "outputs": [],
   "source": [
    "import matplotlib.pyplot as plt"
   ]
  },
  {
   "cell_type": "code",
   "execution_count": 5,
   "metadata": {},
   "outputs": [
    {
     "data": {
      "text/plain": [
       "pandas.core.frame.DataFrame"
      ]
     },
     "execution_count": 5,
     "metadata": {},
     "output_type": "execute_result"
    }
   ],
   "source": [
    "type(df)\n"
   ]
  },
  {
   "cell_type": "markdown",
   "metadata": {},
   "source": [
    "# age"
   ]
  },
  {
   "cell_type": "code",
   "execution_count": 6,
   "metadata": {},
   "outputs": [
    {
     "data": {
      "text/plain": [
       "0     20\n",
       "1     27\n",
       "2     21\n",
       "3     23\n",
       "4     19\n",
       "5     24\n",
       "6     21\n",
       "7     19\n",
       "8     19\n",
       "9     22\n",
       "10    25\n",
       "11    27\n",
       "12    21\n",
       "13    19\n",
       "14    21\n",
       "15    21\n",
       "16    20\n",
       "17    23\n",
       "18    20\n",
       "19    20\n",
       "20    27\n",
       "21    23\n",
       "22    21\n",
       "23    19\n",
       "24    20\n",
       "25    22\n",
       "26    21\n",
       "27    23\n",
       "28    20\n",
       "29    30\n",
       "30    23\n",
       "31    24\n",
       "Name: Age, dtype: int64"
      ]
     },
     "execution_count": 6,
     "metadata": {},
     "output_type": "execute_result"
    }
   ],
   "source": [
    "df.Age"
   ]
  },
  {
   "cell_type": "code",
   "execution_count": 7,
   "metadata": {},
   "outputs": [
    {
     "name": "stdout",
     "output_type": "stream",
     "text": [
      "mean 22.03125\n"
     ]
    }
   ],
   "source": [
    "# mean\n",
    "df=pd.read_excel(r\"C:\\Users\\STUDENT\\Desktop\\WITU COHORT 3\\Year one\\Semester one\\Data science and machine learning/DATA/Dataset.xlsx.xlsx\")\n",
    "print(\"mean\",df[\"Age\"].mean())"
   ]
  },
  {
   "cell_type": "code",
   "execution_count": 8,
   "metadata": {},
   "outputs": [
    {
     "name": "stdout",
     "output_type": "stream",
     "text": [
      "var 7.644153225806452\n"
     ]
    }
   ],
   "source": [
    "# variance\n",
    "\n",
    "df=pd.read_excel(r\"C:\\Users\\STUDENT\\Desktop\\WITU COHORT 3\\Year one\\Semester one\\Data science and machine learning/DATA/Dataset.xlsx.xlsx\")\n",
    "\n",
    "print(\"var\",df[\"Age\"].var())"
   ]
  },
  {
   "cell_type": "code",
   "execution_count": 9,
   "metadata": {},
   "outputs": [
    {
     "name": "stdout",
     "output_type": "stream",
     "text": [
      "std 2.7648061823220904\n"
     ]
    }
   ],
   "source": [
    "# standard deviation\n",
    "\n",
    "df=pd.read_excel(r\"C:\\Users\\STUDENT\\Desktop\\WITU COHORT 3\\Year one\\Semester one\\Data science and machine learning/DATA/Dataset.xlsx.xlsx\")\n",
    "print(\"std\",df[\"Age\"].std())"
   ]
  },
  {
   "cell_type": "markdown",
   "metadata": {},
   "source": [
    "# height"
   ]
  },
  {
   "cell_type": "code",
   "execution_count": 10,
   "metadata": {},
   "outputs": [
    {
     "name": "stdout",
     "output_type": "stream",
     "text": [
      "mean 157.24093750000003\n"
     ]
    }
   ],
   "source": [
    "# mean \n",
    "\n",
    "df=pd.read_excel(r\"C:\\Users\\STUDENT\\Desktop\\WITU COHORT 3\\Year one\\Semester one\\Data science and machine learning/DATA/Dataset.xlsx.xlsx\")\n",
    "print(\"mean\",df[\"Height\"].mean())"
   ]
  },
  {
   "cell_type": "code",
   "execution_count": 11,
   "metadata": {},
   "outputs": [
    {
     "name": "stdout",
     "output_type": "stream",
     "text": [
      "var 978.2376023185485\n"
     ]
    }
   ],
   "source": [
    "# variance\n",
    "df=pd.read_excel(r\"C:\\Users\\STUDENT\\Desktop\\WITU COHORT 3\\Year one\\Semester one\\Data science and machine learning/DATA/Dataset.xlsx.xlsx\")\n",
    "print(\"var\",df[\"Height\"].var())"
   ]
  },
  {
   "cell_type": "code",
   "execution_count": 12,
   "metadata": {},
   "outputs": [
    {
     "name": "stdout",
     "output_type": "stream",
     "text": [
      "std 31.276790153699412\n"
     ]
    }
   ],
   "source": [
    "# standard deviation\n",
    "df=pd.read_excel(r\"C:\\Users\\STUDENT\\Desktop\\WITU COHORT 3\\Year one\\Semester one\\Data science and machine learning/DATA/Dataset.xlsx.xlsx\")\n",
    "print(\"std\",df[\"Height\"].std())"
   ]
  },
  {
   "cell_type": "markdown",
   "metadata": {},
   "source": [
    "# weight"
   ]
  },
  {
   "cell_type": "code",
   "execution_count": 13,
   "metadata": {},
   "outputs": [
    {
     "name": "stdout",
     "output_type": "stream",
     "text": [
      "mean 58.5\n"
     ]
    }
   ],
   "source": [
    "# mean\n",
    "df=pd.read_excel(r\"C:\\Users\\STUDENT\\Desktop\\WITU COHORT 3\\Year one\\Semester one\\Data science and machine learning/DATA/Dataset.xlsx.xlsx\")\n",
    "print(\"mean\",df[\"Weight\"].mean())"
   ]
  },
  {
   "cell_type": "code",
   "execution_count": 14,
   "metadata": {},
   "outputs": [
    {
     "name": "stdout",
     "output_type": "stream",
     "text": [
      "var 110.51612903225806\n"
     ]
    }
   ],
   "source": [
    "# variance\n",
    "df=pd.read_excel(r\"C:\\Users\\STUDENT\\Desktop\\WITU COHORT 3\\Year one\\Semester one\\Data science and machine learning/DATA/Dataset.xlsx.xlsx\")\n",
    "print(\"var\",df[\"Weight\"].var())"
   ]
  },
  {
   "cell_type": "code",
   "execution_count": 15,
   "metadata": {},
   "outputs": [
    {
     "name": "stdout",
     "output_type": "stream",
     "text": [
      "std 10.512665172650467\n"
     ]
    }
   ],
   "source": [
    "# standard deviation\n",
    "df=pd.read_excel(r\"C:\\Users\\STUDENT\\Desktop\\WITU COHORT 3\\Year one\\Semester one\\Data science and machine learning/DATA/Dataset.xlsx.xlsx\")\n",
    "print(\"std\",df[\"Weight\"].std())"
   ]
  },
  {
   "cell_type": "code",
   "execution_count": 30,
   "metadata": {},
   "outputs": [
    {
     "data": {
      "text/plain": [
       "Index(['S/N', 'Name', 'Age', 'Height', 'Weight'], dtype='object')"
      ]
     },
     "execution_count": 30,
     "metadata": {},
     "output_type": "execute_result"
    }
   ],
   "source": [
    "df.columns"
   ]
  },
  {
   "cell_type": "code",
   "execution_count": 22,
   "metadata": {},
   "outputs": [
    {
     "data": {
      "text/plain": [
       "Weight\n",
       "50    5\n",
       "55    4\n",
       "60    2\n",
       "67    2\n",
       "65    2\n",
       "70    2\n",
       "58    1\n",
       "64    1\n",
       "45    1\n",
       "62    1\n",
       "49    1\n",
       "74    1\n",
       "80    1\n",
       "47    1\n",
       "78    1\n",
       "57    1\n",
       "69    1\n",
       "59    1\n",
       "30    1\n",
       "54    1\n",
       "52    1\n",
       "Name: count, dtype: int64"
      ]
     },
     "execution_count": 22,
     "metadata": {},
     "output_type": "execute_result"
    }
   ],
   "source": [
    "df.Weight.value_counts()"
   ]
  },
  {
   "cell_type": "code",
   "execution_count": 32,
   "metadata": {},
   "outputs": [
    {
     "data": {
      "text/plain": [
       "Weight\n",
       "30    1\n",
       "45    1\n",
       "47    1\n",
       "49    1\n",
       "50    5\n",
       "52    1\n",
       "54    1\n",
       "55    4\n",
       "57    1\n",
       "58    1\n",
       "59    1\n",
       "60    2\n",
       "62    1\n",
       "64    1\n",
       "65    2\n",
       "67    2\n",
       "69    1\n",
       "70    2\n",
       "74    1\n",
       "78    1\n",
       "80    1\n",
       "Name: count, dtype: int64"
      ]
     },
     "execution_count": 32,
     "metadata": {},
     "output_type": "execute_result"
    }
   ],
   "source": [
    "df.Weight.value_counts().sort_index()"
   ]
  },
  {
   "cell_type": "code",
   "execution_count": 34,
   "metadata": {},
   "outputs": [
    {
     "data": {
      "text/plain": [
       "count    32.000000\n",
       "mean     58.500000\n",
       "std      10.512665\n",
       "min      30.000000\n",
       "25%      50.000000\n",
       "50%      57.500000\n",
       "75%      65.500000\n",
       "max      80.000000\n",
       "Name: Weight, dtype: float64"
      ]
     },
     "execution_count": 34,
     "metadata": {},
     "output_type": "execute_result"
    }
   ],
   "source": [
    "df.Weight.describe()"
   ]
  },
  {
   "cell_type": "code",
   "execution_count": 35,
   "metadata": {},
   "outputs": [],
   "source": [
    "import matplotlib.pyplot as plt"
   ]
  },
  {
   "cell_type": "code",
   "execution_count": 38,
   "metadata": {},
   "outputs": [
    {
     "data": {
      "text/plain": [
       "<Axes: >"
      ]
     },
     "execution_count": 38,
     "metadata": {},
     "output_type": "execute_result"
    },
    {
     "data": {
      "image/png": "[encoded data removed]",
      "text/plain": [
       "<Figure size 640x480 with 1 Axes>"
      ]
     },
     "metadata": {},
     "output_type": "display_data"
    }
   ],
   "source": [
    "df.Weight.hist(bins=40)"
   ]
  }
 ],
 "metadata": {
  "kernelspec": {
   "display_name": "Python 3",
   "language": "python",
   "name": "python3"
  },
  "language_info": {
   "codemirror_mode": {
    "name": "ipython",
    "version": 3
   },
   "file_extension": ".py",
   "mimetype": "text/x-python",
   "name": "python",
   "nbconvert_exporter": "python",
   "pygments_lexer": "ipython3",
   "version": "3.11.6"
  },
  "orig_nbformat": 4
 },
 "nbformat": 4,
 "nbformat_minor": 2
}
