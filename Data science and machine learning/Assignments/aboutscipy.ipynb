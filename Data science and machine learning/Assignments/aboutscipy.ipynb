{
 "cells": [
  {
   "cell_type": "code",
   "execution_count": 6,
   "metadata": {},
   "outputs": [],
   "source": [
    "import pandas as pd"
   ]
  },
  {
   "cell_type": "code",
   "execution_count": 7,
   "metadata": {},
   "outputs": [
    {
     "name": "stdout",
     "output_type": "stream",
     "text": [
      "Requirement already satisfied: statsmodels in c:\\users\\student\\appdata\\local\\packages\\pythonsoftwarefoundation.python.3.11_qbz5n2kfra8p0\\localcache\\local-packages\\python311\\site-packages (0.14.0)\n",
      "Requirement already satisfied: numpy>=1.18 in c:\\users\\student\\appdata\\local\\packages\\pythonsoftwarefoundation.python.3.11_qbz5n2kfra8p0\\localcache\\local-packages\\python311\\site-packages (from statsmodels) (1.25.2)\n",
      "Requirement already satisfied: scipy!=1.9.2,>=1.4 in c:\\users\\student\\appdata\\local\\packages\\pythonsoftwarefoundation.python.3.11_qbz5n2kfra8p0\\localcache\\local-packages\\python311\\site-packages (from statsmodels) (1.11.3)\n",
      "Requirement already satisfied: pandas>=1.0 in c:\\users\\student\\appdata\\local\\packages\\pythonsoftwarefoundation.python.3.11_qbz5n2kfra8p0\\localcache\\local-packages\\python311\\site-packages (from statsmodels) (2.1.0)\n",
      "Requirement already satisfied: patsy>=0.5.2 in c:\\users\\student\\appdata\\local\\packages\\pythonsoftwarefoundation.python.3.11_qbz5n2kfra8p0\\localcache\\local-packages\\python311\\site-packages (from statsmodels) (0.5.3)\n",
      "Requirement already satisfied: packaging>=21.3 in c:\\users\\student\\appdata\\local\\packages\\pythonsoftwarefoundation.python.3.11_qbz5n2kfra8p0\\localcache\\local-packages\\python311\\site-packages (from statsmodels) (23.1)\n",
      "Requirement already satisfied: python-dateutil>=2.8.2 in c:\\users\\student\\appdata\\local\\packages\\pythonsoftwarefoundation.python.3.11_qbz5n2kfra8p0\\localcache\\local-packages\\python311\\site-packages (from pandas>=1.0->statsmodels) (2.8.2)\n",
      "Requirement already satisfied: pytz>=2020.1 in c:\\users\\student\\appdata\\local\\packages\\pythonsoftwarefoundation.python.3.11_qbz5n2kfra8p0\\localcache\\local-packages\\python311\\site-packages (from pandas>=1.0->statsmodels) (2023.3.post1)\n",
      "Requirement already satisfied: tzdata>=2022.1 in c:\\users\\student\\appdata\\local\\packages\\pythonsoftwarefoundation.python.3.11_qbz5n2kfra8p0\\localcache\\local-packages\\python311\\site-packages (from pandas>=1.0->statsmodels) (2023.3)\n",
      "Requirement already satisfied: six in c:\\users\\student\\appdata\\local\\packages\\pythonsoftwarefoundation.python.3.11_qbz5n2kfra8p0\\localcache\\local-packages\\python311\\site-packages (from patsy>=0.5.2->statsmodels) (1.16.0)\n",
      "Note: you may need to restart the kernel to use updated packages.\n"
     ]
    },
    {
     "name": "stderr",
     "output_type": "stream",
     "text": [
      "\n",
      "[notice] A new release of pip is available: 23.2.1 -> 23.3.1\n",
      "[notice] To update, run: C:\\Users\\STUDENT\\AppData\\Local\\Microsoft\\WindowsApps\\PythonSoftwareFoundation.Python.3.11_qbz5n2kfra8p0\\python.exe -m pip install --upgrade pip\n"
     ]
    }
   ],
   "source": [
    "pip install statsmodels"
   ]
  },
  {
   "cell_type": "code",
   "execution_count": 8,
   "metadata": {},
   "outputs": [
    {
     "name": "stdout",
     "output_type": "stream",
     "text": [
      "    S/N                      Name  Age  Height  Weight  Admission cohort 3\n",
      "0     1            Adokorac Nancy   20  177.80      74                   1\n",
      "1     2   Amutuhaire Faith Ahabwe   27  157.50      47                   1\n",
      "2     3     KWAGALA JOANNA VICTOR   21  210.82      54                   1\n",
      "3     4              mahoro cathy   23  187.96      30                   1\n",
      "4     5  Mbabazi Hawa Bint Edrisa   19  175.25      59                   1\n",
      "5     6       Nakanjako josephine   24  175.25      65                   1\n",
      "6     7            Nanteza Dorcus   21  157.48      69                   1\n",
      "7     8             Mbabazi Angel   19  167.64      57                   1\n",
      "8     9            Namara Racheal   19  154.94      55                   1\n",
      "9    10       Lwamulungi Sheillah   22  162.56      78                   1\n",
      "10   11           Nakawuka Sandra   25  175.25      60                   1\n",
      "11   12   Achola Gloria Fortunate   27  172.72      80                   1\n",
      "12   13             Nagawa Esther   21  187.96      58                   1\n",
      "13   14           wanjiku hananny   19  165.10      50                   1\n",
      "14   15            babirye Sandra   21  175.25      50                   1\n",
      "15   16          nakagga shanitah   21  175.25      50                   1\n",
      "16   17    Wembabazi Vivian Ritah   20  160.02      49                   1\n",
      "17   18   Nanziri Ritah Namayanja   23  162.56      70                   1\n",
      "18   19            Nasejje Mariam   20  101.60      62                   1\n",
      "19   20  Namukose Jolline Edriana   20  162.56      55                   1\n",
      "20   21      Agatha Faith Anyango   27   93.98      55                   1\n",
      "21   22              Kirabo Sarah   23  165.10      60                   1\n",
      "22   23          Nansalire Anitah   21   63.50      45                   1\n",
      "23   24             Nalugo gladys   19  101.60      70                   1\n",
      "24   25            Namakula Allen   20  170.18      55                   1\n",
      "25   26           Tukahirwa emily   22  175.26      67                   1\n",
      "26   27            Shamirah Ahmed   21  137.16      67                   1\n",
      "27   28          Ameso lmmaculate   23  165.10      64                   1\n",
      "28   29                Ayoo Teddy   20  157.48      50                   1\n",
      "29   30                Biira Mary   30  104.14      65                   1\n",
      "30   31        Aloyo Brenda Ojera   23  170.18      52                   1\n",
      "31   32        Ayebale Immaculate   24  162.56      50                   1\n"
     ]
    }
   ],
   "source": [
    "df=pd.read_excel(r\"C:\\Users\\STUDENT\\Desktop\\WITU COHORT 3\\Year one\\Semester one\\Data science and machine learning\\DATA/Dataset.xlsx.xlsx\")\n",
    "print(df)"
   ]
  },
  {
   "cell_type": "code",
   "execution_count": 9,
   "metadata": {},
   "outputs": [],
   "source": [
    "from scipy.stats import linregress"
   ]
  },
  {
   "cell_type": "code",
   "execution_count": 10,
   "metadata": {},
   "outputs": [],
   "source": [
    "Height=df[\"Height\"]"
   ]
  },
  {
   "cell_type": "code",
   "execution_count": 11,
   "metadata": {},
   "outputs": [],
   "source": [
    "Weight=df[\"Weight\"]"
   ]
  },
  {
   "cell_type": "code",
   "execution_count": 12,
   "metadata": {},
   "outputs": [],
   "source": [
    "import scipy.stats as stats\n"
   ]
  },
  {
   "cell_type": "code",
   "execution_count": 13,
   "metadata": {},
   "outputs": [
    {
     "name": "stdout",
     "output_type": "stream",
     "text": [
      "LinregressResult(slope=-0.013866774255916172, intercept=60.680424584101125, rvalue=-0.04125577875716405, pvalue=0.8226109993048019, stderr=0.06131406652282846, intercept_stderr=9.824109349902317)\n"
     ]
    }
   ],
   "source": [
    "# decoding dataset of weight and height \n",
    "\n",
    "\n",
    "result = stats.linregress(Height,Weight)\n",
    "print(result)"
   ]
  },
  {
   "cell_type": "code",
   "execution_count": 14,
   "metadata": {},
   "outputs": [
    {
     "name": "stdout",
     "output_type": "stream",
     "text": [
      "LinregressResult(slope=-0.12274226503210753, intercept=164.42136000437833, rvalue=-0.04125577875716405, pvalue=0.8226109993048019, stderr=0.5427237268343382, intercept_stderr=32.242140463745315)\n"
     ]
    }
   ],
   "source": [
    "result = stats.linregress(Weight,Height)\n",
    "print(result)"
   ]
  },
  {
   "cell_type": "code",
   "execution_count": 15,
   "metadata": {},
   "outputs": [],
   "source": [
    "Age=df[\"Age\"]"
   ]
  },
  {
   "cell_type": "code",
   "execution_count": 16,
   "metadata": {},
   "outputs": [
    {
     "name": "stdout",
     "output_type": "stream",
     "text": [
      "LinregressResult(slope=0.029626386456509047, intercept=20.29810639229422, rvalue=0.1126488659799094, pvalue=0.5393184054681278, stderr=0.0477109485908369, intercept_stderr=2.834412851446697)\n"
     ]
    }
   ],
   "source": [
    "result = stats.linregress(Weight,Age)\n",
    "print (result)"
   ]
  }
 ],
 "metadata": {
  "kernelspec": {
   "display_name": "Python 3",
   "language": "python",
   "name": "python3"
  },
  "language_info": {
   "codemirror_mode": {
    "name": "ipython",
    "version": 3
   },
   "file_extension": ".py",
   "mimetype": "text/x-python",
   "name": "python",
   "nbconvert_exporter": "python",
   "pygments_lexer": "ipython3",
   "version": "3.11.6"
  }
 },
 "nbformat": 4,
 "nbformat_minor": 2
}
