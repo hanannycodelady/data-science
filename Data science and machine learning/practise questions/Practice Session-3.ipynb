{
 "cells": [
  {
   "cell_type": "markdown",
   "metadata": {
    "collapsed": true,
    "pycharm": {
     "name": "#%% md\n"
    }
   },
   "source": [
    "# Importing Modules\n",
    "\n",
    "This lesson covers:\n",
    "\n",
    "* Module import"
   ]
  },
  {
   "cell_type": "markdown",
   "metadata": {},
   "source": [
    "## Problem: Importing Modules\n",
    "\n",
    "Python is a general-purpose programming language and is not specialized for\n",
    "numerical or statistical computation. The core modules that enable Python to\n",
    "store and access data efficiently and that provide statistical algorithms are\n",
    "located in modules.  The most important are:\n",
    "\n",
    "* NumPy (`numpy`) - provide the basic array block used throughout numerical\n",
    "  Python\n",
    "* pandas (`pandas`) - provides DataFrames which are used to store \n",
    "  data in an easy-to-use format\n",
    "* SciPy (`scipy`) - Basic statistics and random number generators. The most\n",
    "  important submodule is `scipy.stats`\n",
    "* matplotlib (`matplotlib`) - graphics. The most important submodule is\n",
    "  `matplotlib.pyplot`.\n",
    "* statsmodels (`statsmodels`) - statistical models such as OLS. The most\n",
    "  important submodules are `statsmodels.api` and `statsmodels.tsa.api`.\n",
    "  \n",
    "* Seaborn (`seaborn`) - provides more and beautiful plots and charts that one can embende in interractive notebooks \n",
    "\n",
    "Begin by importing the important modules."
   ]
  },
  {
   "cell_type": "code",
   "execution_count": null,
   "metadata": {},
   "outputs": [],
   "source": []
  },
  {
   "cell_type": "markdown",
   "metadata": {},
   "source": [
    "## Problem: Canonical Names\n",
    "\n",
    "Use the `as` keyword to import the modules using their canonical names:\n",
    "\n",
    "| Module              | Canonical Name |\n",
    "| :------------------ | :------------- |\n",
    "| numpy               | np             |\n",
    "| pandas              | pd             |\n",
    "| scipy               | sp             |\n",
    "| scipy.stats         | stats          |\n",
    "| matplotlib.pyplot   | plt            |\n",
    "| statsmodels.api     | sm             |\n",
    "| statsmodels.tsa.api | tsa            |\n",
    "\n",
    "Import the core modules using `import` _module_ `as` _canonical_."
   ]
  },
  {
   "cell_type": "markdown",
   "metadata": {},
   "source": [
    "## Basic Mathematical Operations\n",
    "\n",
    "|  Operation            | Symbol | Precedence |\n",
    "|:----------------------|:------:|:----------:|\n",
    "| Parentheses           | ()     | 4          |\n",
    "| Exponentiation        | **     | 3          |\n",
    "| Multiplication        | *      | 2          | \n",
    "| Division              | /      | 2          |\n",
    "| Floor division        | //     | 2          |\n",
    "| Modulus               | %      | 2          | \n",
    "| Matrix multiplication | @      | 2          |\n",
    "| Addition              | +      | 1          |\n",
    "| Subtraction           | -      | 1          |\n",
    "\n",
    "**Note**: Higher precedence operators are evaluated first, and ties are\n",
    "evaluated left to right. \n",
    "\n",
    "\n",
    "## Problem: Scalar Operations\n",
    "1. Add 1 to all returns\n",
    "2. Square the returns\n",
    "3. Multiply the price of Google by 2. \n",
    "4. Extract the fractional return using floor division and modulus"
   ]
  },
  {
   "cell_type": "code",
   "execution_count": null,
   "metadata": {},
   "outputs": [],
   "source": []
  },
  {
   "cell_type": "markdown",
   "metadata": {},
   "source": [
    "## Problem: Importing individual functions\n",
    "\n",
    "1. Import `array`, `sqrt`, `log` and `exp` from NumPy.\n",
    "2. Import `OLS` from `statsmodels.regression.linear_model`\n",
    "3. Import the `stats` module from `scipy`"
   ]
  },
  {
   "cell_type": "code",
   "execution_count": null,
   "metadata": {},
   "outputs": [],
   "source": []
  },
  {
   "cell_type": "markdown",
   "metadata": {},
   "source": [
    "## Importing Data\n",
    "\n",
    "This Section covers:\n",
    "\n",
    "* Importing data \n",
    "* Converting dates "
   ]
  },
  {
   "cell_type": "code",
   "execution_count": null,
   "metadata": {},
   "outputs": [],
   "source": []
  },
  {
   "cell_type": "markdown",
   "metadata": {},
   "source": [
    "## Exercises\n",
    "\n",
    "### Exercise: Selectively Load Columns\n",
    "\n",
    "1. Load the data in `data/fred-md.csv` in the columns sasdate,\n",
    "   RPI and INDPRO using the `usecols` keyword.\n",
    "2. Remove the first row by selecting the second to the end.\n",
    "3. Convert sasdate to dates\n",
    "4. Set sasdate as the index and remove it from the `DataFrame`."
   ]
  },
  {
   "cell_type": "code",
   "execution_count": null,
   "metadata": {},
   "outputs": [],
   "source": []
  },
  {
   "cell_type": "markdown",
   "metadata": {
    "pycharm": {
     "name": "#%% md\n"
    }
   },
   "source": [
    "## Exercises\n",
    "\n",
    "### Exercise: Import `det`\n",
    "\n",
    "The determinant function is located at `numpy.linalg.det`. Access this function\n",
    "using:\n",
    "\n",
    "1. `numpy`\n",
    "2. `np`\n",
    "3. By importing `linalg` from `numpy` and accessing it from `linalg`\n",
    "4. By directly importing the function\n",
    "\n",
    "You can `x` in the setup code to call the function as _func_`(x)`."
   ]
  },
  {
   "cell_type": "code",
   "execution_count": 1,
   "metadata": {
    "pycharm": {
     "is_executing": false,
     "name": "#%%\n"
    }
   },
   "outputs": [
    {
     "name": "stdout",
     "output_type": "stream",
     "text": [
      "[[2 3]\n",
      " [1 2]]\n"
     ]
    }
   ],
   "source": [
    "# Setup: A simple 2 by 2 array to use with det\n",
    "import numpy as np\n",
    "x = np.array([[2,3],[1,2]])\n",
    "print(x)"
   ]
  },
  {
   "cell_type": "code",
   "execution_count": null,
   "metadata": {},
   "outputs": [],
   "source": []
  },
  {
   "cell_type": "code",
   "execution_count": null,
   "metadata": {},
   "outputs": [],
   "source": []
  },
  {
   "cell_type": "code",
   "execution_count": null,
   "metadata": {},
   "outputs": [],
   "source": []
  },
  {
   "cell_type": "code",
   "execution_count": null,
   "metadata": {},
   "outputs": [],
   "source": []
  },
  {
   "cell_type": "markdown",
   "metadata": {},
   "source": [
    "### Exercise: Load and Merge multiple Sheets\n",
    "\n",
    "1. Load the data on the sheet \"Long Mat\" in the Excel file \"data/exercise.xlsx\". \n",
    "   These are 10 and 20 year constant maturity yields.\n",
    "2. Load the data on the sheet \"Short Mat\" in the Excel file \"data/exercise.xlsx\".\n",
    "   These are 1 and 3 year constant maturity yields.\n",
    "3. Combine the columns in the two `DataFrame`s by creating a dictionary of the keys in\n",
    "   each with the values equal to the column names."
   ]
  },
  {
   "cell_type": "code",
   "execution_count": null,
   "metadata": {},
   "outputs": [],
   "source": []
  }
 ],
 "metadata": {
  "kernelspec": {
   "display_name": "Python 3",
   "language": "python",
   "name": "python3"
  },
  "language_info": {
   "codemirror_mode": {
    "name": "ipython",
    "version": 3
   },
   "file_extension": ".py",
   "mimetype": "text/x-python",
   "name": "python",
   "nbconvert_exporter": "python",
   "pygments_lexer": "ipython3",
   "version": "3.8.5"
  },
  "pycharm": {
   "stem_cell": {
    "cell_type": "raw",
    "metadata": {
     "collapsed": false
    },
    "source": []
   }
  }
 },
 "nbformat": 4,
 "nbformat_minor": 1
}
